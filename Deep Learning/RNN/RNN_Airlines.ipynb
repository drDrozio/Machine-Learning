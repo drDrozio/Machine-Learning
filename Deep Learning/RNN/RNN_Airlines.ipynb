{
 "cells": [
  {
   "cell_type": "code",
   "execution_count": 28,
   "metadata": {},
   "outputs": [],
   "source": [
    "from pandas import read_csv\n",
    "import numpy as np"
   ]
  },
  {
   "cell_type": "code",
   "execution_count": 29,
   "metadata": {},
   "outputs": [],
   "source": [
    "df=read_csv('international-airline-passengers1.csv',usecols=[1])"
   ]
  },
  {
   "cell_type": "code",
   "execution_count": 30,
   "metadata": {},
   "outputs": [
    {
     "data": {
      "text/html": [
       "<div>\n",
       "<style scoped>\n",
       "    .dataframe tbody tr th:only-of-type {\n",
       "        vertical-align: middle;\n",
       "    }\n",
       "\n",
       "    .dataframe tbody tr th {\n",
       "        vertical-align: top;\n",
       "    }\n",
       "\n",
       "    .dataframe thead th {\n",
       "        text-align: right;\n",
       "    }\n",
       "</style>\n",
       "<table border=\"1\" class=\"dataframe\">\n",
       "  <thead>\n",
       "    <tr style=\"text-align: right;\">\n",
       "      <th></th>\n",
       "      <th>International airline passengers: monthly totals in thousands. Jan 49 ? Dec 60</th>\n",
       "    </tr>\n",
       "  </thead>\n",
       "  <tbody>\n",
       "    <tr>\n",
       "      <td>count</td>\n",
       "      <td>144.000000</td>\n",
       "    </tr>\n",
       "    <tr>\n",
       "      <td>mean</td>\n",
       "      <td>280.298611</td>\n",
       "    </tr>\n",
       "    <tr>\n",
       "      <td>std</td>\n",
       "      <td>119.966317</td>\n",
       "    </tr>\n",
       "    <tr>\n",
       "      <td>min</td>\n",
       "      <td>104.000000</td>\n",
       "    </tr>\n",
       "    <tr>\n",
       "      <td>25%</td>\n",
       "      <td>180.000000</td>\n",
       "    </tr>\n",
       "    <tr>\n",
       "      <td>50%</td>\n",
       "      <td>265.500000</td>\n",
       "    </tr>\n",
       "    <tr>\n",
       "      <td>75%</td>\n",
       "      <td>360.500000</td>\n",
       "    </tr>\n",
       "    <tr>\n",
       "      <td>max</td>\n",
       "      <td>622.000000</td>\n",
       "    </tr>\n",
       "  </tbody>\n",
       "</table>\n",
       "</div>"
      ],
      "text/plain": [
       "       International airline passengers: monthly totals in thousands. Jan 49 ? Dec 60\n",
       "count                                         144.000000                             \n",
       "mean                                          280.298611                             \n",
       "std                                           119.966317                             \n",
       "min                                           104.000000                             \n",
       "25%                                           180.000000                             \n",
       "50%                                           265.500000                             \n",
       "75%                                           360.500000                             \n",
       "max                                           622.000000                             "
      ]
     },
     "execution_count": 30,
     "metadata": {},
     "output_type": "execute_result"
    }
   ],
   "source": [
    "df.describe()"
   ]
  },
  {
   "cell_type": "code",
   "execution_count": 31,
   "metadata": {},
   "outputs": [
    {
     "data": {
      "text/plain": [
       "(144, 1)"
      ]
     },
     "execution_count": 31,
     "metadata": {},
     "output_type": "execute_result"
    }
   ],
   "source": [
    "values=df.values.astype('float32')\n",
    "values.shape"
   ]
  },
  {
   "cell_type": "code",
   "execution_count": 32,
   "metadata": {},
   "outputs": [],
   "source": [
    "train_size=int(values.shape[0]*0.67)\n",
    "test_size=values.shape[0]-train_size\n",
    "train=values[0:train_size]\n",
    "test=values[train_size:]"
   ]
  },
  {
   "cell_type": "code",
   "execution_count": 33,
   "metadata": {},
   "outputs": [],
   "source": [
    "from sklearn.preprocessing import MinMaxScaler\n",
    "scaler=MinMaxScaler(feature_range=(0,1))\n",
    "train=scaler.fit_transform(train)\n",
    "test=scaler.transform(test)"
   ]
  },
  {
   "cell_type": "code",
   "execution_count": 34,
   "metadata": {},
   "outputs": [],
   "source": [
    "def create_dataset(data,k):\n",
    "    dataX,dataY=[],[]\n",
    "    for i in range(data.shape[0]-k):\n",
    "        x=data[i:i+k,0]\n",
    "        y=data[i+k,0]\n",
    "        dataX.append(x)\n",
    "        dataY.append(y)\n",
    "    return np.array(dataX),np.array(dataY)"
   ]
  },
  {
   "cell_type": "code",
   "execution_count": 35,
   "metadata": {},
   "outputs": [],
   "source": [
    "look_back=15\n",
    "trainX,trainY=create_dataset(train,look_back)\n",
    "testX,testY=create_dataset(test,look_back)"
   ]
  },
  {
   "cell_type": "code",
   "execution_count": 36,
   "metadata": {},
   "outputs": [
    {
     "data": {
      "text/plain": [
       "(81, 15, 1)"
      ]
     },
     "execution_count": 36,
     "metadata": {},
     "output_type": "execute_result"
    }
   ],
   "source": [
    "trainX=np.reshape(trainX,(trainX.shape[0],trainX.shape[1],1))\n",
    "testX=np.reshape(testX,(testX.shape[0],testX.shape[1],1))\n",
    "trainX.shape"
   ]
  },
  {
   "cell_type": "code",
   "execution_count": 37,
   "metadata": {},
   "outputs": [],
   "source": [
    "from keras.models import Sequential\n",
    "from keras.layers import SimpleRNN, Dense"
   ]
  },
  {
   "cell_type": "code",
   "execution_count": 39,
   "metadata": {},
   "outputs": [
    {
     "name": "stdout",
     "output_type": "stream",
     "text": [
      "WARNING:tensorflow:From C:\\Users\\Ishan SS\\Anaconda3\\lib\\site-packages\\keras\\optimizers.py:790: The name tf.train.Optimizer is deprecated. Please use tf.compat.v1.train.Optimizer instead.\n",
      "\n",
      "WARNING:tensorflow:From C:\\Users\\Ishan SS\\Anaconda3\\lib\\site-packages\\keras\\backend\\tensorflow_backend.py:986: The name tf.assign_add is deprecated. Please use tf.compat.v1.assign_add instead.\n",
      "\n",
      "WARNING:tensorflow:From C:\\Users\\Ishan SS\\Anaconda3\\lib\\site-packages\\keras\\backend\\tensorflow_backend.py:973: The name tf.assign is deprecated. Please use tf.compat.v1.assign instead.\n",
      "\n",
      "WARNING:tensorflow:From C:\\Users\\Ishan SS\\Anaconda3\\lib\\site-packages\\keras\\backend\\tensorflow_backend.py:2741: The name tf.Session is deprecated. Please use tf.compat.v1.Session instead.\n",
      "\n",
      "Epoch 1/100\n",
      "WARNING:tensorflow:From C:\\Users\\Ishan SS\\Anaconda3\\lib\\site-packages\\keras\\backend\\tensorflow_backend.py:174: The name tf.get_default_session is deprecated. Please use tf.compat.v1.get_default_session instead.\n",
      "\n",
      "WARNING:tensorflow:From C:\\Users\\Ishan SS\\Anaconda3\\lib\\site-packages\\keras\\backend\\tensorflow_backend.py:181: The name tf.ConfigProto is deprecated. Please use tf.compat.v1.ConfigProto instead.\n",
      "\n",
      "WARNING:tensorflow:From C:\\Users\\Ishan SS\\Anaconda3\\lib\\site-packages\\keras\\backend\\tensorflow_backend.py:190: The name tf.global_variables is deprecated. Please use tf.compat.v1.global_variables instead.\n",
      "\n",
      "WARNING:tensorflow:From C:\\Users\\Ishan SS\\Anaconda3\\lib\\site-packages\\keras\\backend\\tensorflow_backend.py:199: The name tf.is_variable_initialized is deprecated. Please use tf.compat.v1.is_variable_initialized instead.\n",
      "\n",
      "WARNING:tensorflow:From C:\\Users\\Ishan SS\\Anaconda3\\lib\\site-packages\\keras\\backend\\tensorflow_backend.py:206: The name tf.variables_initializer is deprecated. Please use tf.compat.v1.variables_initializer instead.\n",
      "\n",
      "81/81 [==============================] - 1s 9ms/step - loss: 0.0145\n",
      "Epoch 2/100\n",
      "81/81 [==============================] - 0s 2ms/step - loss: 0.0123\n",
      "Epoch 3/100\n",
      "81/81 [==============================] - 0s 2ms/step - loss: 0.0121\n",
      "Epoch 4/100\n",
      "81/81 [==============================] - 0s 2ms/step - loss: 0.0117\n",
      "Epoch 5/100\n",
      "81/81 [==============================] - 0s 2ms/step - loss: 0.0112\n",
      "Epoch 6/100\n",
      "81/81 [==============================] - 0s 2ms/step - loss: 0.0110\n",
      "Epoch 7/100\n",
      "81/81 [==============================] - 0s 2ms/step - loss: 0.0111\n",
      "Epoch 8/100\n",
      "81/81 [==============================] - 0s 3ms/step - loss: 0.0106\n",
      "Epoch 9/100\n",
      "81/81 [==============================] - 0s 3ms/step - loss: 0.0103\n",
      "Epoch 10/100\n",
      "81/81 [==============================] - 0s 2ms/step - loss: 0.0104\n",
      "Epoch 11/100\n",
      "81/81 [==============================] - 0s 3ms/step - loss: 0.0101\n",
      "Epoch 12/100\n",
      "81/81 [==============================] - 0s 3ms/step - loss: 0.0098\n",
      "Epoch 13/100\n",
      "81/81 [==============================] - 0s 3ms/step - loss: 0.0097\n",
      "Epoch 14/100\n",
      "81/81 [==============================] - 0s 2ms/step - loss: 0.0095\n",
      "Epoch 15/100\n",
      "81/81 [==============================] - 0s 3ms/step - loss: 0.0095\n",
      "Epoch 16/100\n",
      "81/81 [==============================] - 0s 3ms/step - loss: 0.0091\n",
      "Epoch 17/100\n",
      "81/81 [==============================] - 0s 3ms/step - loss: 0.0083\n",
      "Epoch 18/100\n",
      "81/81 [==============================] - 0s 3ms/step - loss: 0.0101\n",
      "Epoch 19/100\n",
      "81/81 [==============================] - 0s 3ms/step - loss: 0.0089\n",
      "Epoch 20/100\n",
      "81/81 [==============================] - 0s 3ms/step - loss: 0.0092\n",
      "Epoch 21/100\n",
      "81/81 [==============================] - 0s 3ms/step - loss: 0.0087\n",
      "Epoch 22/100\n",
      "81/81 [==============================] - 0s 2ms/step - loss: 0.0087\n",
      "Epoch 23/100\n",
      "81/81 [==============================] - 0s 2ms/step - loss: 0.0084\n",
      "Epoch 24/100\n",
      "81/81 [==============================] - 0s 3ms/step - loss: 0.0087\n",
      "Epoch 25/100\n",
      "81/81 [==============================] - 0s 2ms/step - loss: 0.0084\n",
      "Epoch 26/100\n",
      "81/81 [==============================] - 0s 2ms/step - loss: 0.0085\n",
      "Epoch 27/100\n",
      "81/81 [==============================] - 0s 2ms/step - loss: 0.0088\n",
      "Epoch 28/100\n",
      "81/81 [==============================] - 0s 2ms/step - loss: 0.0086\n",
      "Epoch 29/100\n",
      "81/81 [==============================] - 0s 2ms/step - loss: 0.0081\n",
      "Epoch 30/100\n",
      "81/81 [==============================] - 0s 2ms/step - loss: 0.0085\n",
      "Epoch 31/100\n",
      "81/81 [==============================] - 0s 3ms/step - loss: 0.0077\n",
      "Epoch 32/100\n",
      "81/81 [==============================] - 0s 3ms/step - loss: 0.0078\n",
      "Epoch 33/100\n",
      "81/81 [==============================] - 0s 3ms/step - loss: 0.0079\n",
      "Epoch 34/100\n",
      "81/81 [==============================] - 0s 3ms/step - loss: 0.0078\n",
      "Epoch 35/100\n",
      "81/81 [==============================] - 0s 3ms/step - loss: 0.0079\n",
      "Epoch 36/100\n",
      "81/81 [==============================] - 0s 3ms/step - loss: 0.0075\n",
      "Epoch 37/100\n",
      "81/81 [==============================] - 0s 3ms/step - loss: 0.0077\n",
      "Epoch 38/100\n",
      "81/81 [==============================] - 0s 3ms/step - loss: 0.0076\n",
      "Epoch 39/100\n",
      "81/81 [==============================] - 0s 3ms/step - loss: 0.0077\n",
      "Epoch 40/100\n",
      "81/81 [==============================] - 0s 2ms/step - loss: 0.0076\n",
      "Epoch 41/100\n",
      "81/81 [==============================] - 0s 2ms/step - loss: 0.0077\n",
      "Epoch 42/100\n",
      "81/81 [==============================] - 0s 2ms/step - loss: 0.0075\n",
      "Epoch 43/100\n",
      "81/81 [==============================] - 0s 2ms/step - loss: 0.0080\n",
      "Epoch 44/100\n",
      "81/81 [==============================] - 0s 2ms/step - loss: 0.0076\n",
      "Epoch 45/100\n",
      "81/81 [==============================] - 0s 3ms/step - loss: 0.0076\n",
      "Epoch 46/100\n",
      "81/81 [==============================] - 0s 3ms/step - loss: 0.0076\n",
      "Epoch 47/100\n",
      "81/81 [==============================] - 0s 2ms/step - loss: 0.0071\n",
      "Epoch 48/100\n",
      "81/81 [==============================] - 0s 3ms/step - loss: 0.0074\n",
      "Epoch 49/100\n",
      "81/81 [==============================] - 0s 3ms/step - loss: 0.0073\n",
      "Epoch 50/100\n",
      "81/81 [==============================] - 0s 3ms/step - loss: 0.0075\n",
      "Epoch 51/100\n",
      "81/81 [==============================] - 0s 2ms/step - loss: 0.0070\n",
      "Epoch 52/100\n",
      "81/81 [==============================] - 0s 3ms/step - loss: 0.0078\n",
      "Epoch 53/100\n",
      "81/81 [==============================] - 0s 2ms/step - loss: 0.0072\n",
      "Epoch 54/100\n",
      "81/81 [==============================] - 0s 3ms/step - loss: 0.0074\n",
      "Epoch 55/100\n",
      "81/81 [==============================] - 0s 3ms/step - loss: 0.0069\n",
      "Epoch 56/100\n",
      "81/81 [==============================] - 0s 2ms/step - loss: 0.0078\n",
      "Epoch 57/100\n",
      "81/81 [==============================] - 0s 2ms/step - loss: 0.0071\n",
      "Epoch 58/100\n",
      "81/81 [==============================] - 0s 2ms/step - loss: 0.0071\n",
      "Epoch 59/100\n",
      "81/81 [==============================] - 0s 2ms/step - loss: 0.0071\n",
      "Epoch 60/100\n",
      "81/81 [==============================] - 0s 2ms/step - loss: 0.0070\n",
      "Epoch 61/100\n",
      "81/81 [==============================] - 0s 2ms/step - loss: 0.0073\n",
      "Epoch 62/100\n",
      "81/81 [==============================] - 0s 2ms/step - loss: 0.0070\n",
      "Epoch 63/100\n",
      "81/81 [==============================] - 0s 2ms/step - loss: 0.0073\n",
      "Epoch 64/100\n",
      "81/81 [==============================] - 0s 2ms/step - loss: 0.0074\n",
      "Epoch 65/100\n",
      "81/81 [==============================] - 0s 2ms/step - loss: 0.0069\n",
      "Epoch 66/100\n",
      "81/81 [==============================] - 0s 3ms/step - loss: 0.0072\n",
      "Epoch 67/100\n",
      "81/81 [==============================] - 0s 2ms/step - loss: 0.0070\n",
      "Epoch 68/100\n",
      "81/81 [==============================] - 0s 2ms/step - loss: 0.0072\n",
      "Epoch 69/100\n",
      "81/81 [==============================] - 0s 2ms/step - loss: 0.0070\n",
      "Epoch 70/100\n",
      "81/81 [==============================] - 0s 2ms/step - loss: 0.0067\n",
      "Epoch 71/100\n",
      "81/81 [==============================] - 0s 2ms/step - loss: 0.0069\n",
      "Epoch 72/100\n",
      "81/81 [==============================] - 0s 2ms/step - loss: 0.0073\n",
      "Epoch 73/100\n",
      "81/81 [==============================] - 0s 2ms/step - loss: 0.0079\n",
      "Epoch 74/100\n",
      "81/81 [==============================] - 0s 2ms/step - loss: 0.0073\n",
      "Epoch 75/100\n",
      "81/81 [==============================] - 0s 2ms/step - loss: 0.0066\n",
      "Epoch 76/100\n",
      "81/81 [==============================] - 0s 2ms/step - loss: 0.0070\n",
      "Epoch 77/100\n",
      "81/81 [==============================] - 0s 2ms/step - loss: 0.0069\n",
      "Epoch 78/100\n",
      "81/81 [==============================] - 0s 2ms/step - loss: 0.0069\n",
      "Epoch 79/100\n"
     ]
    },
    {
     "name": "stdout",
     "output_type": "stream",
     "text": [
      "81/81 [==============================] - 0s 2ms/step - loss: 0.0070\n",
      "Epoch 80/100\n",
      "81/81 [==============================] - 0s 2ms/step - loss: 0.0068\n",
      "Epoch 81/100\n",
      "81/81 [==============================] - 0s 2ms/step - loss: 0.0067\n",
      "Epoch 82/100\n",
      "81/81 [==============================] - 0s 2ms/step - loss: 0.0067\n",
      "Epoch 83/100\n",
      "81/81 [==============================] - 0s 2ms/step - loss: 0.0067\n",
      "Epoch 84/100\n",
      "81/81 [==============================] - 0s 2ms/step - loss: 0.0067\n",
      "Epoch 85/100\n",
      "81/81 [==============================] - 0s 2ms/step - loss: 0.0070\n",
      "Epoch 86/100\n",
      "81/81 [==============================] - 0s 2ms/step - loss: 0.0068\n",
      "Epoch 87/100\n",
      "81/81 [==============================] - 0s 2ms/step - loss: 0.0071\n",
      "Epoch 88/100\n",
      "81/81 [==============================] - 0s 2ms/step - loss: 0.0067\n",
      "Epoch 89/100\n",
      "81/81 [==============================] - 0s 2ms/step - loss: 0.0067\n",
      "Epoch 90/100\n",
      "81/81 [==============================] - 0s 2ms/step - loss: 0.0068\n",
      "Epoch 91/100\n",
      "81/81 [==============================] - 0s 2ms/step - loss: 0.0068\n",
      "Epoch 92/100\n",
      "81/81 [==============================] - 0s 2ms/step - loss: 0.0064\n",
      "Epoch 93/100\n",
      "81/81 [==============================] - 0s 2ms/step - loss: 0.0067\n",
      "Epoch 94/100\n",
      "81/81 [==============================] - 0s 2ms/step - loss: 0.0069\n",
      "Epoch 95/100\n",
      "81/81 [==============================] - 0s 2ms/step - loss: 0.0065\n",
      "Epoch 96/100\n",
      "81/81 [==============================] - 0s 2ms/step - loss: 0.0065\n",
      "Epoch 97/100\n",
      "81/81 [==============================] - 0s 2ms/step - loss: 0.0068\n",
      "Epoch 98/100\n",
      "81/81 [==============================] - 0s 2ms/step - loss: 0.0067\n",
      "Epoch 99/100\n",
      "81/81 [==============================] - 0s 2ms/step - loss: 0.0064\n",
      "Epoch 100/100\n",
      "81/81 [==============================] - 0s 2ms/step - loss: 0.0064\n"
     ]
    },
    {
     "data": {
      "text/plain": [
       "<keras.callbacks.History at 0x18ecd4d0988>"
      ]
     },
     "execution_count": 39,
     "metadata": {},
     "output_type": "execute_result"
    }
   ],
   "source": [
    "model=Sequential()\n",
    "model.add(SimpleRNN(4,input_shape=(look_back,1)))\n",
    "model.add(Dense(1))\n",
    "model.compile(loss='mean_squared_error',optimizer='adam')\n",
    "model.fit(trainX,trainY,epochs=100,batch_size=1)"
   ]
  },
  {
   "cell_type": "code",
   "execution_count": 44,
   "metadata": {},
   "outputs": [],
   "source": [
    "test_pred=model.predict(testX)\n",
    "test_pred=scaler.inverse_transform(test_pred).ravel()\n",
    "\n",
    "train_pred=model.predict(trainX)\n",
    "train_pred=scaler.inverse_transform(train_pred).ravel()\n",
    "\n",
    "train_true=scaler.inverse_transform([trainY]).ravel()\n",
    "test_true=scaler.inverse_transform([testY]).ravel()\n"
   ]
  },
  {
   "cell_type": "code",
   "execution_count": 46,
   "metadata": {},
   "outputs": [
    {
     "data": {
      "image/png": "[encoded data removed]",
      "text/plain": [
       "<Figure size 432x288 with 1 Axes>"
      ]
     },
     "metadata": {
      "needs_background": "light"
     },
     "output_type": "display_data"
    }
   ],
   "source": [
    "from matplotlib import pyplot as plt\n",
    "plt.plot(train_true,c='g')\n",
    "plt.plot(train_pred,c='b')\n",
    "plt.show()"
   ]
  },
  {
   "cell_type": "code",
   "execution_count": 47,
   "metadata": {},
   "outputs": [
    {
     "data": {
      "image/png": "[encoded data removed]",
      "text/plain": [
       "<Figure size 432x288 with 1 Axes>"
      ]
     },
     "metadata": {
      "needs_background": "light"
     },
     "output_type": "display_data"
    }
   ],
   "source": [
    "plt.plot(test_true,c='g')\n",
    "plt.plot(test_pred,c='b')\n",
    "plt.show()"
   ]
  },
  {
   "cell_type": "code",
   "execution_count": 49,
   "metadata": {},
   "outputs": [
    {
     "data": {
      "image/png": "[encoded data removed]",
      "text/plain": [
       "<Figure size 432x288 with 1 Axes>"
      ]
     },
     "metadata": {
      "needs_background": "light"
     },
     "output_type": "display_data"
    }
   ],
   "source": [
    "#combining the data\n",
    "combinedPred=np.concatenate((train_pred,test_pred))\n",
    "combinedTrue=np.concatenate((train_true,test_true))\n",
    "plt.plot(combinedTrue,c='g')\n",
    "plt.plot(combinedPred,c='b')\n",
    "plt.show()"
   ]
  },
  {
   "cell_type": "code",
   "execution_count": null,
   "metadata": {},
   "outputs": [],
   "source": []
  }
 ],
 "metadata": {
  "kernelspec": {
   "display_name": "Python 3",
   "language": "python",
   "name": "python3"
  },
  "language_info": {
   "codemirror_mode": {
    "name": "ipython",
    "version": 3
   },
   "file_extension": ".py",
   "mimetype": "text/x-python",
   "name": "python",
   "nbconvert_exporter": "python",
   "pygments_lexer": "ipython3",
   "version": "3.7.4"
  }
 },
 "nbformat": 4,
 "nbformat_minor": 2
}

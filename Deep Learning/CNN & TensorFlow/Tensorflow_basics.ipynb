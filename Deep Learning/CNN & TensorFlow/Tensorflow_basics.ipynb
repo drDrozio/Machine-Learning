{
 "cells": [
  {
   "cell_type": "code",
   "execution_count": 1,
   "metadata": {},
   "outputs": [
    {
     "data": {
      "text/plain": [
       "'1.15.0'"
      ]
     },
     "execution_count": 1,
     "metadata": {},
     "output_type": "execute_result"
    }
   ],
   "source": [
    "import tensorflow as tf\n",
    "tf.__version__"
   ]
  },
  {
   "cell_type": "code",
   "execution_count": 3,
   "metadata": {},
   "outputs": [
    {
     "data": {
      "text/plain": [
       "<tf.Tensor 'Const_1:0' shape=() dtype=int32>"
      ]
     },
     "execution_count": 3,
     "metadata": {},
     "output_type": "execute_result"
    }
   ],
   "source": [
    "#Creating constant tensor objects\n",
    "#id shows the number of times this tensor object has occured. id count increases each time we run the code.\n",
    "a=tf.constant(2)\n",
    "a"
   ]
  },
  {
   "cell_type": "code",
   "execution_count": 4,
   "metadata": {},
   "outputs": [
    {
     "data": {
      "text/plain": [
       "<tf.Tensor 'add:0' shape=() dtype=int32>"
      ]
     },
     "execution_count": 4,
     "metadata": {},
     "output_type": "execute_result"
    }
   ],
   "source": [
    "b=tf.constant(3)\n",
    "c=tf.constant(4)\n",
    "s=b+c\n",
    "#The value of sum is not shown. only object is created. Code will not be executed unless we run it in a tensor session\n",
    "s"
   ]
  },
  {
   "cell_type": "code",
   "execution_count": 5,
   "metadata": {},
   "outputs": [
    {
     "data": {
      "text/plain": [
       "7"
      ]
     },
     "execution_count": 5,
     "metadata": {},
     "output_type": "execute_result"
    }
   ],
   "source": [
    "ses=tf.Session()\n",
    "ses.run(s)"
   ]
  },
  {
   "cell_type": "code",
   "execution_count": 6,
   "metadata": {},
   "outputs": [
    {
     "name": "stdout",
     "output_type": "stream",
     "text": [
      "2\n"
     ]
    }
   ],
   "source": [
    "print(ses.run(a)) #For printing value of object"
   ]
  },
  {
   "cell_type": "code",
   "execution_count": 7,
   "metadata": {},
   "outputs": [
    {
     "data": {
      "text/plain": [
       "<tf.Tensor 'MatMul:0' shape=(1, 1) dtype=int32>"
      ]
     },
     "execution_count": 7,
     "metadata": {},
     "output_type": "execute_result"
    }
   ],
   "source": [
    "m1=tf.constant([[3,3]])\n",
    "m2=tf.constant([[3],[3]])\n",
    "mul=tf.matmul(m1,m2)\n",
    "mul #outputs the shape of the multiplied matrix but not the matrix"
   ]
  },
  {
   "cell_type": "code",
   "execution_count": 8,
   "metadata": {},
   "outputs": [
    {
     "data": {
      "text/plain": [
       "array([[18]])"
      ]
     },
     "execution_count": 8,
     "metadata": {},
     "output_type": "execute_result"
    }
   ],
   "source": [
    "ses.run(mul)"
   ]
  },
  {
   "cell_type": "code",
   "execution_count": 9,
   "metadata": {},
   "outputs": [
    {
     "name": "stdout",
     "output_type": "stream",
     "text": [
      "5\n",
      "Tensor(\"mul:0\", shape=(), dtype=int32)\n",
      "6\n",
      "Tensor(\"add_1:0\", shape=(), dtype=int32)\n"
     ]
    }
   ],
   "source": [
    "c=a+b\n",
    "#print(c.eval())   does not work outside session\n",
    "#Another way of creating a session\n",
    "with tf.Session() as sos:\n",
    "    print(c.eval())\n",
    "    print(a*b) #Does not print/evaluate unless eval() is written\n",
    "    print((a*b).eval())\n",
    "print(c) #Prints tensor object as it is out of the tensor session"
   ]
  },
  {
   "cell_type": "code",
   "execution_count": 10,
   "metadata": {},
   "outputs": [],
   "source": [
    "#Variables:-\n",
    "#By default variables are global\n",
    "var1=tf.Variable(100) #assigning value but this has to be run to execute it actually\n",
    "var2=tf.Variable(3)\n",
    "s=tf.add(var1,var2)\n",
    "sess1=tf.Session()\n",
    "sess1.run(tf.global_variables_initializer()) #Has to be written else variables won't get initialized. Would initialize in that session only\n",
    "#Variables must be explicitly initialized before this command"
   ]
  },
  {
   "cell_type": "code",
   "execution_count": 12,
   "metadata": {},
   "outputs": [
    {
     "name": "stdout",
     "output_type": "stream",
     "text": [
      "Tensor(\"Assign_1:0\", shape=(), dtype=int32_ref)\n"
     ]
    },
    {
     "data": {
      "text/plain": [
       "1234"
      ]
     },
     "execution_count": 12,
     "metadata": {},
     "output_type": "execute_result"
    }
   ],
   "source": [
    "assignment=var1.assign(1234) #assignment will only happen after initialization and running\n",
    "print(assignment)# Wont show the new variable as we haven't run the assignment object. Thus only assignment object is returned.\n",
    "sess1.run(assignment)"
   ]
  },
  {
   "cell_type": "code",
   "execution_count": 15,
   "metadata": {},
   "outputs": [
    {
     "data": {
      "text/plain": [
       "120"
      ]
     },
     "execution_count": 15,
     "metadata": {},
     "output_type": "execute_result"
    }
   ],
   "source": [
    "##Placeholders:-\n",
    "#Type of data types to which we can assign value later during execution\n",
    "x=tf.placeholder(tf.int32) #Datatype of placeholder must be defined while declaring the placeholder         \n",
    "y=x*tf.constant(12)\n",
    "sess1.run(y,feed_dict={x:10}) #Pass the value of placeholder inside dictionary named as feed_dict."
   ]
  },
  {
   "cell_type": "code",
   "execution_count": 19,
   "metadata": {},
   "outputs": [
    {
     "data": {
      "text/plain": [
       "array([[12,  0, 12],\n",
       "       [36,  0, 36]])"
      ]
     },
     "execution_count": 19,
     "metadata": {},
     "output_type": "execute_result"
    }
   ],
   "source": [
    "p=tf.placeholder(tf.int32, shape=(2,3)) #Defining the shape of the variable/array/matrix etc.If shape not passed, it can be \n",
    "#anything, Passing shape resticts what value of variable is passed later.        \n",
    "q=p*tf.constant(12)\n",
    "sess1.run(q,feed_dict={p:[[1,0,1],[3,0,3]]}) #Pass the value of placeholder inside dictionary named as feed_dict."
   ]
  },
  {
   "cell_type": "code",
   "execution_count": null,
   "metadata": {},
   "outputs": [],
   "source": []
  }
 ],
 "metadata": {
  "kernelspec": {
   "display_name": "Python 3",
   "language": "python",
   "name": "python3"
  },
  "language_info": {
   "codemirror_mode": {
    "name": "ipython",
    "version": 3
   },
   "file_extension": ".py",
   "mimetype": "text/x-python",
   "name": "python",
   "nbconvert_exporter": "python",
   "pygments_lexer": "ipython3",
   "version": "3.7.4"
  }
 },
 "nbformat": 4,
 "nbformat_minor": 2
}

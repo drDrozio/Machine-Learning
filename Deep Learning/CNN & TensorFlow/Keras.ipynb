{
 "cells": [
  {
   "cell_type": "code",
   "execution_count": 81,
   "metadata": {},
   "outputs": [],
   "source": [
    "from keras.models import Sequential\n",
    "from keras.layers import Dense"
   ]
  },
  {
   "cell_type": "code",
   "execution_count": 82,
   "metadata": {},
   "outputs": [],
   "source": [
    "##(1)Choosing a model in which is used for data flow\n",
    "model=Sequential()"
   ]
  },
  {
   "cell_type": "code",
   "execution_count": 83,
   "metadata": {
    "scrolled": true
   },
   "outputs": [],
   "source": [
    "##(2)Creating the NN architecture using layers on which type of layer(eg. Dense, CNN etc), units and activation function of each layer\n",
    "layer1=Dense(units=32, activation='relu', input_dim=30)\n",
    "model.add(layer1)\n",
    "model.add(Dense(units=16, activation='relu'))\n",
    "model.add(Dense(units=1, activation='sigmoid'))"
   ]
  },
  {
   "cell_type": "code",
   "execution_count": 84,
   "metadata": {
    "scrolled": true
   },
   "outputs": [],
   "source": [
    "##(3)Compiling. Inclides parameters like Optimizer, Loss Function, Metrics and others.\n",
    "model.compile(optimizer='adam', loss='binary_crossentropy', metrics=['accuracy'])"
   ]
  },
  {
   "cell_type": "code",
   "execution_count": 85,
   "metadata": {},
   "outputs": [],
   "source": [
    "from sklearn import datasets\n",
    "cancer=datasets.load_breast_cancer()\n",
    "from sklearn.model_selection import train_test_split\n",
    "\n",
    "X_train,X_test,Y_train,Y_test=train_test_split(cancer.data, cancer.target, test_size=0.2, random_state=0)\n",
    "\n",
    "from sklearn.preprocessing import StandardScaler\n",
    "sc=StandardScaler()\n",
    "X_train=sc.fit_transform(X_train)\n",
    "X_test=sc.transform(X_test)"
   ]
  },
  {
   "cell_type": "code",
   "execution_count": 86,
   "metadata": {},
   "outputs": [
    {
     "data": {
      "text/plain": [
       "(455, 30)"
      ]
     },
     "execution_count": 86,
     "metadata": {},
     "output_type": "execute_result"
    }
   ],
   "source": [
    "X_train.shape"
   ]
  },
  {
   "cell_type": "code",
   "execution_count": 87,
   "metadata": {
    "scrolled": true
   },
   "outputs": [
    {
     "name": "stdout",
     "output_type": "stream",
     "text": [
      "Train on 455 samples, validate on 114 samples\n",
      "Epoch 1/20\n",
      "455/455 [==============================] - 1s 2ms/step - loss: 0.4162 - acc: 0.8725 - val_loss: 0.3085 - val_acc: 0.9035\n",
      "Epoch 2/20\n",
      "455/455 [==============================] - 0s 68us/step - loss: 0.2302 - acc: 0.9385 - val_loss: 0.2227 - val_acc: 0.9035\n",
      "Epoch 3/20\n",
      "455/455 [==============================] - 0s 66us/step - loss: 0.1638 - acc: 0.9473 - val_loss: 0.1825 - val_acc: 0.9211\n",
      "Epoch 4/20\n",
      "455/455 [==============================] - 0s 69us/step - loss: 0.1289 - acc: 0.9626 - val_loss: 0.1585 - val_acc: 0.9211\n",
      "Epoch 5/20\n",
      "455/455 [==============================] - 0s 82us/step - loss: 0.1083 - acc: 0.9714 - val_loss: 0.1438 - val_acc: 0.9386\n",
      "Epoch 6/20\n",
      "455/455 [==============================] - 0s 73us/step - loss: 0.0954 - acc: 0.9736 - val_loss: 0.1335 - val_acc: 0.9474\n",
      "Epoch 7/20\n",
      "455/455 [==============================] - 0s 62us/step - loss: 0.0857 - acc: 0.9758 - val_loss: 0.1249 - val_acc: 0.9474\n",
      "Epoch 8/20\n",
      "455/455 [==============================] - 0s 65us/step - loss: 0.0783 - acc: 0.9802 - val_loss: 0.1184 - val_acc: 0.9474\n",
      "Epoch 9/20\n",
      "455/455 [==============================] - 0s 63us/step - loss: 0.0732 - acc: 0.9802 - val_loss: 0.1140 - val_acc: 0.9649\n",
      "Epoch 10/20\n",
      "455/455 [==============================] - 0s 70us/step - loss: 0.0686 - acc: 0.9846 - val_loss: 0.1090 - val_acc: 0.9561\n",
      "Epoch 11/20\n",
      "455/455 [==============================] - 0s 63us/step - loss: 0.0644 - acc: 0.9846 - val_loss: 0.1067 - val_acc: 0.9649\n",
      "Epoch 12/20\n",
      "455/455 [==============================] - 0s 60us/step - loss: 0.0614 - acc: 0.9868 - val_loss: 0.1038 - val_acc: 0.9649\n",
      "Epoch 13/20\n",
      "455/455 [==============================] - 0s 67us/step - loss: 0.0580 - acc: 0.9890 - val_loss: 0.1021 - val_acc: 0.9649\n",
      "Epoch 14/20\n",
      "455/455 [==============================] - 0s 64us/step - loss: 0.0550 - acc: 0.9890 - val_loss: 0.1005 - val_acc: 0.9649\n",
      "Epoch 15/20\n",
      "455/455 [==============================] - 0s 67us/step - loss: 0.0527 - acc: 0.9890 - val_loss: 0.0997 - val_acc: 0.9737\n",
      "Epoch 16/20\n",
      "455/455 [==============================] - 0s 70us/step - loss: 0.0504 - acc: 0.9912 - val_loss: 0.0965 - val_acc: 0.9737\n",
      "Epoch 17/20\n",
      "455/455 [==============================] - 0s 66us/step - loss: 0.0486 - acc: 0.9912 - val_loss: 0.0968 - val_acc: 0.9737\n",
      "Epoch 18/20\n",
      "455/455 [==============================] - 0s 66us/step - loss: 0.0458 - acc: 0.9912 - val_loss: 0.0951 - val_acc: 0.9737\n",
      "Epoch 19/20\n",
      "455/455 [==============================] - 0s 66us/step - loss: 0.0440 - acc: 0.9912 - val_loss: 0.0962 - val_acc: 0.9737\n",
      "Epoch 20/20\n",
      "455/455 [==============================] - 0s 71us/step - loss: 0.0422 - acc: 0.9912 - val_loss: 0.0955 - val_acc: 0.9737\n"
     ]
    },
    {
     "data": {
      "text/plain": [
       "<keras.callbacks.History at 0x1ef124655c8>"
      ]
     },
     "execution_count": 87,
     "metadata": {},
     "output_type": "execute_result"
    }
   ],
   "source": [
    "##(4)Fitting data. Includes important parameters like X_train, Y_train, epochs or number iterations, batch_size, validation_data=(X_test,Y_test)\n",
    "model.fit(X_train, Y_train, epochs=20, batch_size=20, validation_data=(X_test,Y_test))"
   ]
  },
  {
   "cell_type": "code",
   "execution_count": 88,
   "metadata": {},
   "outputs": [
    {
     "name": "stdout",
     "output_type": "stream",
     "text": [
      "114/114 [==============================] - 0s 26us/step\n"
     ]
    },
    {
     "data": {
      "text/plain": [
       "(array([[1.41748786e-03],\n",
       "        [9.62785482e-01],\n",
       "        [9.99490976e-01],\n",
       "        [9.91218626e-01],\n",
       "        [9.99682188e-01],\n",
       "        [9.98462677e-01],\n",
       "        [9.99952197e-01],\n",
       "        [9.99200165e-01],\n",
       "        [9.99879360e-01],\n",
       "        [9.99978542e-01],\n",
       "        [5.72014570e-01],\n",
       "        [8.63182068e-01],\n",
       "        [9.99974608e-01],\n",
       "        [2.69536436e-01],\n",
       "        [6.35323286e-01],\n",
       "        [4.77239490e-03],\n",
       "        [9.99818623e-01],\n",
       "        [1.93715096e-06],\n",
       "        [1.31219625e-04],\n",
       "        [5.96046448e-08],\n",
       "        [1.68219209e-03],\n",
       "        [4.82836366e-03],\n",
       "        [9.91972804e-01],\n",
       "        [9.99074757e-01],\n",
       "        [3.32355499e-04],\n",
       "        [9.99666095e-01],\n",
       "        [9.99955535e-01],\n",
       "        [5.39505482e-03],\n",
       "        [9.99202609e-01],\n",
       "        [6.91413879e-06],\n",
       "        [9.99946475e-01],\n",
       "        [1.02341175e-04],\n",
       "        [9.33698177e-01],\n",
       "        [1.18836761e-03],\n",
       "        [9.99995708e-01],\n",
       "        [1.15042925e-03],\n",
       "        [9.93555665e-01],\n",
       "        [7.76737928e-04],\n",
       "        [9.94341612e-01],\n",
       "        [7.33435154e-04],\n",
       "        [5.18997312e-02],\n",
       "        [9.99905705e-01],\n",
       "        [3.79227698e-02],\n",
       "        [9.99931693e-01],\n",
       "        [9.89092350e-01],\n",
       "        [2.98023224e-08],\n",
       "        [9.99997973e-01],\n",
       "        [9.83290315e-01],\n",
       "        [9.99425411e-01],\n",
       "        [3.37362289e-05],\n",
       "        [3.99351120e-06],\n",
       "        [5.54405749e-02],\n",
       "        [3.03089619e-05],\n",
       "        [9.99163747e-01],\n",
       "        [9.97293949e-01],\n",
       "        [9.99744534e-01],\n",
       "        [9.98863041e-01],\n",
       "        [9.96668041e-01],\n",
       "        [9.95316029e-01],\n",
       "        [0.00000000e+00],\n",
       "        [2.31662393e-03],\n",
       "        [2.77516246e-03],\n",
       "        [9.99904275e-01],\n",
       "        [9.97025847e-01],\n",
       "        [1.92403793e-04],\n",
       "        [9.33455706e-01],\n",
       "        [0.00000000e+00],\n",
       "        [3.87430191e-07],\n",
       "        [4.94718552e-06],\n",
       "        [9.99070466e-01],\n",
       "        [6.88483357e-01],\n",
       "        [7.39097595e-06],\n",
       "        [9.98588204e-01],\n",
       "        [2.00657427e-01],\n",
       "        [5.75184822e-06],\n",
       "        [9.82619107e-01],\n",
       "        [9.99955535e-01],\n",
       "        [9.65308726e-01],\n",
       "        [9.99798179e-01],\n",
       "        [9.99832392e-01],\n",
       "        [6.27896190e-03],\n",
       "        [0.00000000e+00],\n",
       "        [1.69575214e-05],\n",
       "        [9.99797940e-01],\n",
       "        [3.30272317e-02],\n",
       "        [9.99721467e-01],\n",
       "        [9.99957800e-01],\n",
       "        [9.99988496e-01],\n",
       "        [6.82771206e-05],\n",
       "        [0.00000000e+00],\n",
       "        [9.99974966e-01],\n",
       "        [4.14889514e-01],\n",
       "        [4.52277839e-01],\n",
       "        [3.63588333e-06],\n",
       "        [9.98201549e-01],\n",
       "        [9.98018861e-01],\n",
       "        [2.08616257e-07],\n",
       "        [9.95300055e-01],\n",
       "        [9.95043516e-01],\n",
       "        [9.97553825e-01],\n",
       "        [9.99999166e-01],\n",
       "        [9.98467922e-01],\n",
       "        [9.94674802e-01],\n",
       "        [8.30962181e-01],\n",
       "        [3.50475311e-05],\n",
       "        [9.99078512e-01],\n",
       "        [2.50339508e-06],\n",
       "        [8.17509532e-01],\n",
       "        [4.43166614e-01],\n",
       "        [9.91895139e-01],\n",
       "        [9.82342601e-01],\n",
       "        [1.57356262e-05],\n",
       "        [4.30203654e-05],\n",
       "        [8.78416300e-01]], dtype=float32),\n",
       " [0.09546955740242674, 0.9736842063435337])"
      ]
     },
     "execution_count": 88,
     "metadata": {},
     "output_type": "execute_result"
    }
   ],
   "source": [
    "##(5)Predicting and Evaluating\n",
    "predicitions=model.predict(X_test)\n",
    "evaluations=model.evaluate(X_test,Y_test)\n",
    "predicitions,evaluations\n",
    "#evaluations--->[loss,accuracy]"
   ]
  },
  {
   "cell_type": "code",
   "execution_count": null,
   "metadata": {},
   "outputs": [],
   "source": []
  },
  {
   "cell_type": "code",
   "execution_count": null,
   "metadata": {},
   "outputs": [],
   "source": []
  },
  {
   "cell_type": "code",
   "execution_count": null,
   "metadata": {},
   "outputs": [],
   "source": []
  }
 ],
 "metadata": {
  "kernelspec": {
   "display_name": "Python 3",
   "language": "python",
   "name": "python3"
  },
  "language_info": {
   "codemirror_mode": {
    "name": "ipython",
    "version": 3
   },
   "file_extension": ".py",
   "mimetype": "text/x-python",
   "name": "python",
   "nbconvert_exporter": "python",
   "pygments_lexer": "ipython3",
   "version": "3.7.4"
  }
 },
 "nbformat": 4,
 "nbformat_minor": 2
}

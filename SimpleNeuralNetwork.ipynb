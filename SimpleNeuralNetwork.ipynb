{
 "cells": [
  {
   "cell_type": "code",
   "execution_count": 1,
   "metadata": {},
   "outputs": [],
   "source": [
    "import numpy as np"
   ]
  },
  {
   "cell_type": "code",
   "execution_count": 2,
   "metadata": {},
   "outputs": [
    {
     "name": "stdout",
     "output_type": "stream",
     "text": [
      "[[0 0]\n",
      " [0 1]\n",
      " [1 0]\n",
      " [1 1]]\n",
      "[[0]\n",
      " [0]\n",
      " [0]\n",
      " [1]]\n"
     ]
    },
    {
     "data": {
      "text/plain": [
       "((4, 2), (4, 1))"
      ]
     },
     "execution_count": 2,
     "metadata": {},
     "output_type": "execute_result"
    }
   ],
   "source": [
    "X=np.array([[0,0],[0,1],[1,0],[1,1]])\n",
    "Y=np.array([[0,0,0,1]]).T\n",
    "print(X)\n",
    "print(Y)\n",
    "X.shape,Y.shape"
   ]
  },
  {
   "cell_type": "code",
   "execution_count": 3,
   "metadata": {},
   "outputs": [],
   "source": [
    "def sig(z):\n",
    "    return 1/(1+np.exp(-z))"
   ]
  },
  {
   "cell_type": "code",
   "execution_count": 4,
   "metadata": {},
   "outputs": [],
   "source": [
    "def derivativeSig(z):\n",
    "    return sig(z)*(1-sig(z))"
   ]
  },
  {
   "cell_type": "code",
   "execution_count": 5,
   "metadata": {},
   "outputs": [
    {
     "data": {
      "text/plain": [
       "(array([[-0.6395922 ],\n",
       "        [ 0.11071311]]), array([-0.10918162]))"
      ]
     },
     "execution_count": 5,
     "metadata": {},
     "output_type": "execute_result"
    }
   ],
   "source": [
    "#Forward propagation without hidden layer\n",
    "weights=2*np.random.random((2,1))-1\n",
    "bias=2*np.random.random(1)-1\n",
    "lr=0.01\n",
    "weights,bias"
   ]
  },
  {
   "cell_type": "code",
   "execution_count": 6,
   "metadata": {},
   "outputs": [
    {
     "data": {
      "text/plain": [
       "array([[0.47273168],\n",
       "       [0.50038287],\n",
       "       [0.32108854],\n",
       "       [0.34568505]])"
      ]
     },
     "execution_count": 6,
     "metadata": {},
     "output_type": "execute_result"
    }
   ],
   "source": [
    "ip=X\n",
    "op=sig(np.dot(ip,weights)+bias)\n",
    "op"
   ]
  },
  {
   "cell_type": "code",
   "execution_count": 7,
   "metadata": {},
   "outputs": [
    {
     "name": "stdout",
     "output_type": "stream",
     "text": [
      "[[2.15728416e-06]\n",
      " [1.07101299e-02]\n",
      " [1.68494083e-02]\n",
      " [9.88506507e-01]]\n"
     ]
    }
   ],
   "source": [
    "#Backward Propagation without hidden layer\n",
    "for iter in range(100000):\n",
    "    firstTerm=op-Y\n",
    "    prevInputs=np.dot(ip,weights)+bias\n",
    "    secondTerm=derivativeSig(prevInputs)\n",
    "    firstsecond=firstTerm*secondTerm\n",
    "\n",
    "    changes=np.array([[0.0],[0.0]])\n",
    "    for i in range(2):\n",
    "        for j in range(4):\n",
    "            changes[i][0]+=firstsecond[j][0]*ip[j][i]\n",
    "    changes\n",
    "    weights=weights-lr*changes\n",
    "\n",
    "    biasChange=0.0\n",
    "    for j in range(4):\n",
    "        biasChange+=firstsecond[j][0]*1\n",
    "    bias=bias-lr*biasChange\n",
    "output=sig(np.dot(X,weights)+bias)\n",
    "bias,weights\n",
    "print(output)"
   ]
  },
  {
   "cell_type": "code",
   "execution_count": 12,
   "metadata": {},
   "outputs": [
    {
     "data": {
      "text/plain": [
       "(array([[ 0.87729803,  0.79448094],\n",
       "        [-0.24608636,  0.16596045]]),\n",
       " array([[-0.45474902, -0.73067582]]),\n",
       " array([[-0.19841806],\n",
       "        [-0.11156674]]),\n",
       " array([[0.78568764]]))"
      ]
     },
     "execution_count": 12,
     "metadata": {},
     "output_type": "execute_result"
    }
   ],
   "source": [
    "#Forward Propagation with hidden layer\n",
    "wh=2*np.random.random((2,2))-1\n",
    "bh=2*np.random.random((1,2))-1\n",
    "wo=2*np.random.random((2,1))-1\n",
    "bo=2*np.random.random((1,1))-1\n",
    "lr=0.01\n",
    "wh,bh,wo,bo"
   ]
  },
  {
   "cell_type": "code",
   "execution_count": 13,
   "metadata": {},
   "outputs": [
    {
     "data": {
      "text/plain": [
       "array([[0.66203833],\n",
       "       [0.66361564],\n",
       "       [0.6475443 ],\n",
       "       [0.64921354]])"
      ]
     },
     "execution_count": 13,
     "metadata": {},
     "output_type": "execute_result"
    }
   ],
   "source": [
    "op_input_layer=X\n",
    "ip_hidden_layer=np.dot(op_input_layer,wh)+bh\n",
    "op_hidden_layer=sig(ip_hidden_layer)\n",
    "ip_output_layer=np.dot(op_hidden_layer,wo)+bo\n",
    "op_output_layer=sig(ip_output_layer)\n",
    "op_output_layer"
   ]
  },
  {
   "cell_type": "code",
   "execution_count": 17,
   "metadata": {},
   "outputs": [
    {
     "data": {
      "text/plain": [
       "array([[7.26544505e-04],\n",
       "       [1.60006764e-02],\n",
       "       [1.62512862e-02],\n",
       "       [9.76415505e-01]])"
      ]
     },
     "execution_count": 17,
     "metadata": {},
     "output_type": "execute_result"
    }
   ],
   "source": [
    "#Back Propagation with hidden layer\n",
    "for iter in range(100000):\n",
    "    op_input_layer=X\n",
    "    ip_hidden_layer=np.dot(op_input_layer,wh)+bh\n",
    "    op_hidden_layer=sig(ip_hidden_layer)\n",
    "    ip_output_layer=np.dot(op_hidden_layer,wo)+bo\n",
    "    op_output_layer=sig(ip_output_layer)\n",
    "    op_output_layer\n",
    "    firstTerm_output_layer=op_output_layer-Y\n",
    "    secondTerm_output_layer=derivativeSig(ip_output_layer)\n",
    "    firsttwo_output_layer=firstTerm_output_layer*secondTerm_output_layer\n",
    "\n",
    "    firstTerm_hidden_layer=np.dot(firsttwo_output_layer,wo.T)\n",
    "    secondTerm_hidden_layer=derivativeSig(ip_hidden_layer)\n",
    "    firsttwo_hidden_layer=firstTerm_hidden_layer*secondTerm_hidden_layer\n",
    "\n",
    "    changes_output_layer=np.dot(op_hidden_layer.T,firsttwo_output_layer)\n",
    "    changes_bias_output_layer=np.sum(firsttwo_output_layer, axis=0, keepdims=True)\n",
    "\n",
    "    changes_hidden_layer=np.dot(op_input_layer.T,firsttwo_hidden_layer)\n",
    "    changes_bias_hidden_layer=np.sum(firsttwo_hidden_layer, axis=0, keepdims=True)\n",
    "\n",
    "    wo=wo-lr*changes_output_layer\n",
    "    bo=bo-lr*changes_bias_output_layer\n",
    "\n",
    "    wh=wh-lr*changes_hidden_layer\n",
    "    bh=bh-lr*changes_bias_hidden_layer\n",
    "\n",
    "op_input_layer=X\n",
    "ip_hidden_layer=np.dot(op_input_layer,wh)+bh\n",
    "op_hidden_layer=sig(ip_hidden_layer)\n",
    "ip_output_layer=np.dot(op_hidden_layer,wo)+bo\n",
    "op_output_layer=sig(ip_output_layer)\n",
    "op_output_layer"
   ]
  },
  {
   "cell_type": "code",
   "execution_count": null,
   "metadata": {},
   "outputs": [],
   "source": []
  }
 ],
 "metadata": {
  "kernelspec": {
   "display_name": "Python 3",
   "language": "python",
   "name": "python3"
  },
  "language_info": {
   "codemirror_mode": {
    "name": "ipython",
    "version": 3
   },
   "file_extension": ".py",
   "mimetype": "text/x-python",
   "name": "python",
   "nbconvert_exporter": "python",
   "pygments_lexer": "ipython3",
   "version": "3.7.4"
  }
 },
 "nbformat": 4,
 "nbformat_minor": 2
}

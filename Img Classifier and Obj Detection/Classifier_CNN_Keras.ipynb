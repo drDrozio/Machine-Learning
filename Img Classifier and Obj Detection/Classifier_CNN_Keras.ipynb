{
 "cells": [
  {
   "cell_type": "code",
   "execution_count": 1,
   "metadata": {},
   "outputs": [],
   "source": [
    "import tensorflow as tf\n",
    "from tensorflow.keras.models import Sequential\n",
    "from tensorflow.keras.layers import Dense,Dropout,Activation,Flatten,Conv2D, MaxPooling2D\n",
    "import time\n",
    "from tensorflow.keras.callbacks import TensorBoard"
   ]
  },
  {
   "cell_type": "code",
   "execution_count": 2,
   "metadata": {},
   "outputs": [
    {
     "data": {
      "text/plain": [
       "'1.15.0'"
      ]
     },
     "execution_count": 2,
     "metadata": {},
     "output_type": "execute_result"
    }
   ],
   "source": [
    "import pickle\n",
    "tf.__version__"
   ]
  },
  {
   "cell_type": "code",
   "execution_count": 3,
   "metadata": {},
   "outputs": [],
   "source": [
    "tf.debugging.set_log_device_placement(True)"
   ]
  },
  {
   "cell_type": "code",
   "execution_count": 4,
   "metadata": {},
   "outputs": [],
   "source": [
    "xtrain=pickle.load(open(\"X_train.pickle\",\"rb\"))\n",
    "ytrain=pickle.load(open(\"Y_train.pickle\",\"rb\"))\n",
    "xtest=pickle.load(open(\"X_test.pickle\",\"rb\"))\n",
    "ytest=pickle.load(open(\"Y_test.pickle\",\"rb\"))"
   ]
  },
  {
   "cell_type": "code",
   "execution_count": 5,
   "metadata": {},
   "outputs": [],
   "source": [
    "xtrainNorm=xtrain/255\n",
    "xtestNorm=xtest/255"
   ]
  },
  {
   "cell_type": "code",
   "execution_count": 6,
   "metadata": {},
   "outputs": [],
   "source": [
    "def one_hot_encode(y,classes):\n",
    "    c=tf.constant(classes,name=\"classes\")\n",
    "    one_hot_matrix=tf.one_hot(y,c,axis=0)\n",
    "    sess=tf.Session()\n",
    "    one_hot=sess.run(one_hot_matrix)\n",
    "    sess.close()\n",
    "    return one_hot"
   ]
  },
  {
   "cell_type": "code",
   "execution_count": 7,
   "metadata": {},
   "outputs": [
    {
     "name": "stdout",
     "output_type": "stream",
     "text": [
      "Device mapping:\n",
      "/job:localhost/replica:0/task:0/device:GPU:0 -> device: 0, name: GeForce GTX 1050, pci bus id: 0000:01:00.0, compute capability: 6.1\n",
      "\n",
      "Device mapping:\n",
      "/job:localhost/replica:0/task:0/device:GPU:0 -> device: 0, name: GeForce GTX 1050, pci bus id: 0000:01:00.0, compute capability: 6.1\n",
      "\n"
     ]
    }
   ],
   "source": [
    "#One hot encoding y\n",
    "ytrain_flatHot=one_hot_encode(ytrain,6).T\n",
    "ytest_flatHot=one_hot_encode(ytest,6).T"
   ]
  },
  {
   "cell_type": "code",
   "execution_count": 8,
   "metadata": {},
   "outputs": [
    {
     "name": "stdout",
     "output_type": "stream",
     "text": [
      "Num GPUs Available:  1\n"
     ]
    }
   ],
   "source": [
    "print(\"Num GPUs Available: \", len(tf.config.experimental.list_physical_devices('GPU')))"
   ]
  },
  {
   "cell_type": "code",
   "execution_count": 12,
   "metadata": {},
   "outputs": [],
   "source": [
    "NAME=\"Intel-Img-CNN-Keras-{}/\".format(int(time.time()))\n",
    "tensorboard=TensorBoard(log_dir='log2'.format(NAME))"
   ]
  },
  {
   "cell_type": "code",
   "execution_count": 14,
   "metadata": {},
   "outputs": [
    {
     "name": "stdout",
     "output_type": "stream",
     "text": [
      "Train on 14034 samples, validate on 3000 samples\n",
      "Epoch 1/2\n",
      "14034/14034 [==============================] - 87s 6ms/sample - loss: 1.2984 - acc: 0.6108 - val_loss: 0.8326 - val_acc: 0.6980\n",
      "Epoch 2/2\n",
      "14034/14034 [==============================] - 61s 4ms/sample - loss: 0.6410 - acc: 0.7718 - val_loss: 0.7940 - val_acc: 0.7157\n"
     ]
    }
   ],
   "source": [
    "with tf.device('/GPU:0'):\n",
    "    model=Sequential()\n",
    "    model.add(Conv2D(100,(3,3),input_shape=xtrainNorm.shape[1:]))\n",
    "    model.add(Activation(\"relu\"))\n",
    "    model.add(MaxPooling2D(pool_size=(2,2)))\n",
    "\n",
    "    model=Sequential()\n",
    "    model.add(Conv2D(75,(3,3)))\n",
    "    model.add(Activation(\"relu\"))\n",
    "    model.add(MaxPooling2D(pool_size=(2,2)))\n",
    "\n",
    "    model.add(Flatten())\n",
    "    model.add(Dense(25))\n",
    "    \n",
    "    model.add(Dense(12))\n",
    "\n",
    "    model.add(Dense(6))\n",
    "    model.add(Activation('softmax'))\n",
    "\n",
    "    model.compile(loss=\"categorical_crossentropy\",optimizer=\"adam\",metrics=['accuracy'])\n",
    "    model.fit(xtrainNorm,ytrain_flatHot,batch_size=32,epochs=2,validation_data=(xtestNorm, ytest_flatHot),callbacks=[tensorboard])\n"
   ]
  },
  {
   "cell_type": "markdown",
   "metadata": {},
   "source": [
    "To run the tensorboard:\n",
    "Go to CMD and type this in the working directory\n",
    "\"tensorboard --logdir=logslol\"\n",
    "Open the port provided "
   ]
  },
  {
   "cell_type": "code",
   "execution_count": 15,
   "metadata": {},
   "outputs": [
    {
     "name": "stdout",
     "output_type": "stream",
     "text": [
      "Model: \"sequential_13\"\n",
      "_________________________________________________________________\n",
      "Layer (type)                 Output Shape              Param #   \n",
      "=================================================================\n",
      "conv2d_13 (Conv2D)           multiple                  2100      \n",
      "_________________________________________________________________\n",
      "activation_19 (Activation)   multiple                  0         \n",
      "_________________________________________________________________\n",
      "max_pooling2d_13 (MaxPooling multiple                  0         \n",
      "_________________________________________________________________\n",
      "flatten_6 (Flatten)          multiple                  0         \n",
      "_________________________________________________________________\n",
      "dense_12 (Dense)             multiple                  4501900   \n",
      "_________________________________________________________________\n",
      "dense_13 (Dense)             multiple                  156       \n",
      "_________________________________________________________________\n",
      "activation_20 (Activation)   multiple                  0         \n",
      "=================================================================\n",
      "Total params: 4,504,156\n",
      "Trainable params: 4,504,156\n",
      "Non-trainable params: 0\n",
      "_________________________________________________________________\n"
     ]
    }
   ],
   "source": [
    "model.summary()"
   ]
  },
  {
   "cell_type": "code",
   "execution_count": null,
   "metadata": {},
   "outputs": [],
   "source": []
  }
 ],
 "metadata": {
  "kernelspec": {
   "display_name": "Python 3",
   "language": "python",
   "name": "python3"
  },
  "language_info": {
   "codemirror_mode": {
    "name": "ipython",
    "version": 3
   },
   "file_extension": ".py",
   "mimetype": "text/x-python",
   "name": "python",
   "nbconvert_exporter": "python",
   "pygments_lexer": "ipython3",
   "version": "3.7.4"
  }
 },
 "nbformat": 4,
 "nbformat_minor": 2
}

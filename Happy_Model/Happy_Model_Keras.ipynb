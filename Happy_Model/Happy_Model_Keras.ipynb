{
 "cells": [
  {
   "cell_type": "code",
   "execution_count": 40,
   "metadata": {},
   "outputs": [],
   "source": [
    "import tensorflow as tf\n",
    "import tensorflow.keras.backend as K\n",
    "import math\n",
    "import numpy as np\n",
    "import h5py\n",
    "import matplotlib.pyplot as plt\n",
    "from tensorflow.keras import layers\n",
    "from tensorflow.keras.layers import Input, Dense, Activation, ZeroPadding2D, BatchNormalization, Flatten, Conv2D\n",
    "from tensorflow.keras.layers import AveragePooling2D, MaxPooling2D, Dropout, GlobalMaxPooling2D, GlobalAveragePooling2D\n",
    "from tensorflow.keras.models import Model\n",
    "from tensorflow.keras.preprocessing import image\n",
    "from tensorflow.keras.applications.imagenet_utils import preprocess_input\n",
    "from IPython.display import SVG\n",
    "from tensorflow.keras.utils import plot_model\n",
    "K.set_image_data_format('channels_last')\n",
    "from matplotlib.pyplot import imshow\n",
    "\n",
    "%matplotlib inline"
   ]
  },
  {
   "cell_type": "code",
   "execution_count": 4,
   "metadata": {},
   "outputs": [],
   "source": [
    "def mean_pred(y_true, y_pred):\n",
    "    return K.mean(y_pred)"
   ]
  },
  {
   "cell_type": "code",
   "execution_count": 13,
   "metadata": {},
   "outputs": [],
   "source": [
    "def load_dataset():\n",
    "    train_dataset = h5py.File('train_happy.h5', \"r\")\n",
    "    train_set_x_orig = np.array(train_dataset[\"train_set_x\"][:]) # your train set features\n",
    "    train_set_y_orig = np.array(train_dataset[\"train_set_y\"][:]) # your train set labels\n",
    "\n",
    "    test_dataset = h5py.File('test_happy.h5', \"r\")\n",
    "    test_set_x_orig = np.array(test_dataset[\"test_set_x\"][:]) # your test set features\n",
    "    test_set_y_orig = np.array(test_dataset[\"test_set_y\"][:]) # your test set labels\n",
    "\n",
    "    classes = np.array(test_dataset[\"list_classes\"][:]) # the list of classes\n",
    "    \n",
    "    train_set_y_orig = train_set_y_orig.reshape((1, train_set_y_orig.shape[0]))\n",
    "    test_set_y_orig = test_set_y_orig.reshape((1, test_set_y_orig.shape[0]))\n",
    "    \n",
    "    return train_set_x_orig, train_set_y_orig, test_set_x_orig, test_set_y_orig, classes"
   ]
  },
  {
   "cell_type": "code",
   "execution_count": 14,
   "metadata": {},
   "outputs": [],
   "source": [
    "X_train_orig, Y_train_orig, X_test_orig, Y_test_orig, classes = load_dataset()\n",
    "\n",
    "# Normalize image vectors\n",
    "X_train = X_train_orig/255.\n",
    "X_test = X_test_orig/255.\n",
    "\n",
    "# Reshape\n",
    "Y_train = Y_train_orig.T\n",
    "Y_test = Y_test_orig.T"
   ]
  },
  {
   "cell_type": "code",
   "execution_count": 36,
   "metadata": {},
   "outputs": [],
   "source": [
    "def happy_model(input_shape):\n",
    "    #Creating image tensor of specific input_shape\n",
    "    X_input = Input(input_shape)\n",
    "    \n",
    "    #Applying 3x3 zero padding on image tensor\n",
    "    X = ZeroPadding2D((3, 3))(X_input)\n",
    "    \n",
    "    # CONV -> BN -> RELU Block applied to X\n",
    "    X = Conv2D(32, (3, 3), strides = (1, 1), name = 'conv0')(X)\n",
    "    X = BatchNormalization(axis = 3, name = 'bn0')(X)\n",
    "    X = Activation('relu')(X)\n",
    "    \n",
    "    #Max pooling\n",
    "    X = MaxPooling2D((2, 2), name='max_pool')(X)\n",
    "    \n",
    "    #Flattening and Dense layer\n",
    "    X = Flatten()(X)\n",
    "    X = Dense(32, activation='relu', name='fc1')(X)\n",
    "    X = Dense(12, activation='relu', name='fc2')(X)\n",
    "    X = Dense(4, activation='relu', name='fc3')(X)\n",
    "    X = Dense(1, activation='sigmoid', name='fc')(X)\n",
    "    \n",
    "    #Creating the model with given X_input and X as ip and op\n",
    "    model = Model(inputs = X_input, outputs = X, name='HappyModel')\n",
    "    \n",
    "    return model"
   ]
  },
  {
   "cell_type": "code",
   "execution_count": 37,
   "metadata": {},
   "outputs": [],
   "source": [
    "happyModel=happy_model(X_train.shape[1:])"
   ]
  },
  {
   "cell_type": "code",
   "execution_count": 38,
   "metadata": {},
   "outputs": [],
   "source": [
    "happyModel.compile(optimizer = \"adam\", loss = \"binary_crossentropy\", metrics = [\"accuracy\"])"
   ]
  },
  {
   "cell_type": "code",
   "execution_count": 41,
   "metadata": {},
   "outputs": [
    {
     "name": "stdout",
     "output_type": "stream",
     "text": [
      "Train on 600 samples, validate on 150 samples\n",
      "Epoch 1/40\n",
      "600/600 [==============================] - 1s 994us/sample - loss: 0.5614 - acc: 0.7633 - val_loss: 0.6193 - val_acc: 0.7533\n",
      "Epoch 2/40\n",
      "600/600 [==============================] - 0s 670us/sample - loss: 0.2510 - acc: 0.8967 - val_loss: 0.5277 - val_acc: 0.7600\n",
      "Epoch 3/40\n",
      "600/600 [==============================] - 0s 672us/sample - loss: 0.1511 - acc: 0.9483 - val_loss: 0.5529 - val_acc: 0.8067\n",
      "Epoch 4/40\n",
      "600/600 [==============================] - 0s 670us/sample - loss: 0.1691 - acc: 0.9350 - val_loss: 0.4603 - val_acc: 0.9467\n",
      "Epoch 5/40\n",
      "600/600 [==============================] - 0s 700us/sample - loss: 0.0974 - acc: 0.9633 - val_loss: 0.3845 - val_acc: 0.9000\n",
      "Epoch 6/40\n",
      "600/600 [==============================] - 0s 686us/sample - loss: 0.1014 - acc: 0.9667 - val_loss: 0.3907 - val_acc: 0.9067\n",
      "Epoch 7/40\n",
      "600/600 [==============================] - 0s 693us/sample - loss: 0.0703 - acc: 0.9783 - val_loss: 0.3484 - val_acc: 0.8933\n",
      "Epoch 8/40\n",
      "600/600 [==============================] - 0s 696us/sample - loss: 0.0576 - acc: 0.9867 - val_loss: 0.2839 - val_acc: 0.9400\n",
      "Epoch 9/40\n",
      "600/600 [==============================] - 0s 682us/sample - loss: 0.0498 - acc: 0.9900 - val_loss: 0.2427 - val_acc: 0.8933\n",
      "Epoch 10/40\n",
      "600/600 [==============================] - 0s 682us/sample - loss: 0.0537 - acc: 0.9867 - val_loss: 0.1439 - val_acc: 0.9467\n",
      "Epoch 11/40\n",
      "600/600 [==============================] - 0s 683us/sample - loss: 0.0386 - acc: 0.9883 - val_loss: 0.1596 - val_acc: 0.9400\n",
      "Epoch 12/40\n",
      "600/600 [==============================] - 0s 710us/sample - loss: 0.0195 - acc: 0.9967 - val_loss: 0.1055 - val_acc: 0.9667\n",
      "Epoch 13/40\n",
      "600/600 [==============================] - 0s 770us/sample - loss: 0.0308 - acc: 0.9900 - val_loss: 0.2453 - val_acc: 0.9000\n",
      "Epoch 14/40\n",
      "600/600 [==============================] - 0s 705us/sample - loss: 0.0418 - acc: 0.9850 - val_loss: 0.1420 - val_acc: 0.9400\n",
      "Epoch 15/40\n",
      "600/600 [==============================] - 0s 695us/sample - loss: 0.0396 - acc: 0.9867 - val_loss: 0.2260 - val_acc: 0.9133\n",
      "Epoch 16/40\n",
      "600/600 [==============================] - 0s 685us/sample - loss: 0.0697 - acc: 0.9700 - val_loss: 0.1274 - val_acc: 0.9467\n",
      "Epoch 17/40\n",
      "600/600 [==============================] - 0s 685us/sample - loss: 0.0379 - acc: 0.9900 - val_loss: 0.0864 - val_acc: 0.9600\n",
      "Epoch 18/40\n",
      "600/600 [==============================] - 0s 708us/sample - loss: 0.0454 - acc: 0.9817 - val_loss: 0.0926 - val_acc: 0.9667\n",
      "Epoch 19/40\n",
      "600/600 [==============================] - 1s 933us/sample - loss: 0.0515 - acc: 0.9867 - val_loss: 0.2433 - val_acc: 0.9267\n",
      "Epoch 20/40\n",
      "600/600 [==============================] - 0s 803us/sample - loss: 0.0664 - acc: 0.9667 - val_loss: 0.3225 - val_acc: 0.8600\n",
      "Epoch 21/40\n",
      "600/600 [==============================] - 0s 711us/sample - loss: 0.0598 - acc: 0.9867 - val_loss: 0.0988 - val_acc: 0.9667\n",
      "Epoch 22/40\n",
      "600/600 [==============================] - 0s 756us/sample - loss: 0.0132 - acc: 0.9950 - val_loss: 0.0844 - val_acc: 0.9467\n",
      "Epoch 23/40\n",
      "600/600 [==============================] - 0s 768us/sample - loss: 0.0078 - acc: 0.9983 - val_loss: 0.0666 - val_acc: 0.9733\n",
      "Epoch 24/40\n",
      "600/600 [==============================] - 0s 745us/sample - loss: 0.0136 - acc: 0.9933 - val_loss: 0.0723 - val_acc: 0.9667\n",
      "Epoch 25/40\n",
      "600/600 [==============================] - 0s 708us/sample - loss: 0.0318 - acc: 0.9900 - val_loss: 0.2027 - val_acc: 0.9267\n",
      "Epoch 26/40\n",
      "600/600 [==============================] - 0s 683us/sample - loss: 0.0151 - acc: 0.9967 - val_loss: 0.1004 - val_acc: 0.9733\n",
      "Epoch 27/40\n",
      "600/600 [==============================] - 0s 695us/sample - loss: 0.0308 - acc: 0.9950 - val_loss: 0.1536 - val_acc: 0.9400\n",
      "Epoch 28/40\n",
      "600/600 [==============================] - 0s 691us/sample - loss: 0.0198 - acc: 0.9933 - val_loss: 0.0697 - val_acc: 0.9733\n",
      "Epoch 29/40\n",
      "600/600 [==============================] - 0s 678us/sample - loss: 0.0074 - acc: 0.9967 - val_loss: 0.0889 - val_acc: 0.9600\n",
      "Epoch 30/40\n",
      "600/600 [==============================] - 0s 675us/sample - loss: 0.0286 - acc: 0.9933 - val_loss: 0.1055 - val_acc: 0.9533\n",
      "Epoch 31/40\n",
      "600/600 [==============================] - 0s 667us/sample - loss: 0.0476 - acc: 0.9817 - val_loss: 0.1566 - val_acc: 0.9467\n",
      "Epoch 32/40\n",
      "600/600 [==============================] - 0s 675us/sample - loss: 0.0316 - acc: 0.9917 - val_loss: 0.2341 - val_acc: 0.9133\n",
      "Epoch 33/40\n",
      "600/600 [==============================] - 0s 708us/sample - loss: 0.0205 - acc: 0.9933 - val_loss: 0.0945 - val_acc: 0.9600\n",
      "Epoch 34/40\n",
      "600/600 [==============================] - 0s 731us/sample - loss: 0.0359 - acc: 0.9900 - val_loss: 0.2232 - val_acc: 0.9267\n",
      "Epoch 35/40\n",
      "600/600 [==============================] - 0s 676us/sample - loss: 0.0120 - acc: 0.9950 - val_loss: 0.0483 - val_acc: 0.9867\n",
      "Epoch 36/40\n",
      "600/600 [==============================] - 0s 666us/sample - loss: 0.0190 - acc: 0.9933 - val_loss: 0.0634 - val_acc: 0.9867\n",
      "Epoch 37/40\n",
      "600/600 [==============================] - 0s 677us/sample - loss: 0.0087 - acc: 0.9967 - val_loss: 0.0965 - val_acc: 0.9800\n",
      "Epoch 38/40\n",
      "600/600 [==============================] - 0s 663us/sample - loss: 0.0634 - acc: 0.9733 - val_loss: 0.5972 - val_acc: 0.7867\n",
      "Epoch 39/40\n",
      "600/600 [==============================] - 0s 680us/sample - loss: 0.0203 - acc: 0.9900 - val_loss: 0.1288 - val_acc: 0.9533\n",
      "Epoch 40/40\n",
      "600/600 [==============================] - 0s 742us/sample - loss: 0.0519 - acc: 0.9867 - val_loss: 0.1143 - val_acc: 0.9667\n"
     ]
    }
   ],
   "source": [
    "with tf.device('/GPU:0'):\n",
    "    happyModel.fit(X_train,Y_train,batch_size=16,epochs=40,validation_data=(X_test,Y_test))"
   ]
  },
  {
   "cell_type": "code",
   "execution_count": 42,
   "metadata": {},
   "outputs": [
    {
     "name": "stdout",
     "output_type": "stream",
     "text": [
      "150/150 [==============================] - 0s 272us/sample - loss: 0.1143 - acc: 0.9667\n",
      "Loss = 0.11427933156490326\n",
      "Test Accuracy = 0.96666664\n"
     ]
    }
   ],
   "source": [
    "preds = happyModel.evaluate(X_test,Y_test)\n",
    "print (\"Loss = \" + str(preds[0]))\n",
    "print (\"Test Accuracy = \" + str(preds[1]))"
   ]
  },
  {
   "cell_type": "code",
   "execution_count": 47,
   "metadata": {},
   "outputs": [
    {
     "name": "stdout",
     "output_type": "stream",
     "text": [
      "[[1.]]\n"
     ]
    },
    {
     "data": {
      "image/png": "[encoded data removed]",
      "text/plain": [
       "<Figure size 432x288 with 1 Axes>"
      ]
     },
     "metadata": {
      "needs_background": "light"
     },
     "output_type": "display_data"
    }
   ],
   "source": [
    "img_path = 'cry1.jpg'\n",
    "img = image.load_img(img_path, target_size=(64, 64))\n",
    "imshow(img)\n",
    "\n",
    "x = image.img_to_array(img)\n",
    "x = np.expand_dims(x, axis=0)\n",
    "x = preprocess_input(x)\n",
    "\n",
    "print(happyModel.predict(x))"
   ]
  },
  {
   "cell_type": "code",
   "execution_count": null,
   "metadata": {},
   "outputs": [],
   "source": []
  }
 ],
 "metadata": {
  "kernelspec": {
   "display_name": "Python 3",
   "language": "python",
   "name": "python3"
  },
  "language_info": {
   "codemirror_mode": {
    "name": "ipython",
    "version": 3
   },
   "file_extension": ".py",
   "mimetype": "text/x-python",
   "name": "python",
   "nbconvert_exporter": "python",
   "pygments_lexer": "ipython3",
   "version": "3.7.4"
  }
 },
 "nbformat": 4,
 "nbformat_minor": 2
}

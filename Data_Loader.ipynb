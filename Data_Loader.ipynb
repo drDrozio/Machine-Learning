{
 "cells": [
  {
   "cell_type": "code",
   "execution_count": 1,
   "metadata": {},
   "outputs": [],
   "source": [
    "import os\n",
    "import cv2\n",
    "import numpy as np\n",
    "from PIL import Image\n",
    "from matplotlib import image\n",
    "from matplotlib import pyplot\n",
    "from sklearn.utils import shuffle"
   ]
  },
  {
   "cell_type": "code",
   "execution_count": 2,
   "metadata": {},
   "outputs": [
    {
     "data": {
      "text/plain": [
       "'C:\\\\Users\\\\Ishan SS\\\\ML\\\\Intel Img Classification'"
      ]
     },
     "execution_count": 2,
     "metadata": {},
     "output_type": "execute_result"
    }
   ],
   "source": [
    "directory=os.getcwd()\n",
    "directory"
   ]
  },
  {
   "cell_type": "code",
   "execution_count": 3,
   "metadata": {},
   "outputs": [
    {
     "data": {
      "text/plain": [
       "['.ipynb_checkpoints',\n",
       " 'Classifier_NN.ipynb',\n",
       " 'Data_Loader.ipynb',\n",
       " 'seg_pred',\n",
       " 'seg_test',\n",
       " 'seg_train',\n",
       " 'X_train.pickle',\n",
       " 'Y_train.pickle']"
      ]
     },
     "execution_count": 3,
     "metadata": {},
     "output_type": "execute_result"
    }
   ],
   "source": [
    "listd=os.listdir(directory)\n",
    "listd"
   ]
  },
  {
   "cell_type": "code",
   "execution_count": 4,
   "metadata": {},
   "outputs": [
    {
     "data": {
      "text/plain": [
       "'C:\\\\Users\\\\Ishan SS\\\\ML\\\\Intel Img Classification\\\\seg_train'"
      ]
     },
     "execution_count": 4,
     "metadata": {},
     "output_type": "execute_result"
    }
   ],
   "source": [
    "train_dir=directory+\"\\\\\"+'seg_train'\n",
    "train_dir"
   ]
  },
  {
   "cell_type": "code",
   "execution_count": 5,
   "metadata": {},
   "outputs": [
    {
     "data": {
      "text/plain": [
       "'C:\\\\Users\\\\Ishan SS\\\\ML\\\\Intel Img Classification\\\\seg_test'"
      ]
     },
     "execution_count": 5,
     "metadata": {},
     "output_type": "execute_result"
    }
   ],
   "source": [
    "test_dir=directory+\"\\\\\"+'seg_test'\n",
    "test_dir"
   ]
  },
  {
   "cell_type": "code",
   "execution_count": 6,
   "metadata": {},
   "outputs": [],
   "source": [
    "def decode_labels(num):\n",
    "    if num==0:\n",
    "        return 'buildings'\n",
    "    if num==1:\n",
    "        return 'forest'\n",
    "    if num==2:\n",
    "        return 'glacier'\n",
    "    if num==3:\n",
    "        return 'mountain'\n",
    "    if num==4:\n",
    "        return 'sea'\n",
    "    if num==5:\n",
    "        return 'street'"
   ]
  },
  {
   "cell_type": "code",
   "execution_count": 7,
   "metadata": {
    "scrolled": true
   },
   "outputs": [],
   "source": [
    "def generate_file_lists(pathdir):\n",
    "    os.chdir(pathdir)\n",
    "    print(os.getcwd())\n",
    "    count=0\n",
    "    labelNum=0\n",
    "    imgFiles=[]\n",
    "    imgLabels=[]\n",
    "    for dirpath, dirnames, filenames in os.walk(os.getcwd()):\n",
    "        if count==0:\n",
    "            labels=dirnames\n",
    "        else:\n",
    "            for i in range(len(filenames)):\n",
    "                imgFiles.append(filenames[i])\n",
    "                imgLabels.append(labelNum)\n",
    "            labelNum+=1\n",
    "        count+=1\n",
    "    return imgFiles,imgLabels"
   ]
  },
  {
   "cell_type": "code",
   "execution_count": 8,
   "metadata": {},
   "outputs": [],
   "source": [
    "def create_imgdata(basePath,imgLabels,imgFiles):\n",
    "    imgsize=100\n",
    "    l=len(imgFiles)\n",
    "    dataset=np.zeros((l,imgsize,imgsize,3))\n",
    "    for i in range(l):\n",
    "        path=basePath+'\\\\'+decode_labels(imgLabels[i])+'\\\\'+imgFiles[i]\n",
    "        img=cv2.imread(path)\n",
    "        imgresized=cv2.resize(img,(imgsize,imgsize))\n",
    "        dataset[i]=imgresized\n",
    "    return dataset"
   ]
  },
  {
   "cell_type": "code",
   "execution_count": 9,
   "metadata": {},
   "outputs": [],
   "source": [
    "def generate_dataset(pathdir):\n",
    "    imgFiles,imgLabels=generate_file_lists(pathdir)\n",
    "    imgdata=create_imgdata(pathdir,imgLabels,imgFiles)\n",
    "    imgData=np.array(imgdata,dtype=int)\n",
    "    imgLabels=np.array(imgLabels)\n",
    "    trainData, trainLabels = shuffle(imgData, imgLabels)\n",
    "    return trainData,trainLabels"
   ]
  },
  {
   "cell_type": "code",
   "execution_count": 10,
   "metadata": {},
   "outputs": [
    {
     "name": "stdout",
     "output_type": "stream",
     "text": [
      "C:\\Users\\Ishan SS\\ML\\Intel Img Classification\\seg_train\n",
      "C:\\Users\\Ishan SS\\ML\\Intel Img Classification\\seg_test\n"
     ]
    }
   ],
   "source": [
    "X_train,Y_train=generate_dataset(train_dir)\n",
    "X_test,Y_test=generate_dataset(test_dir)"
   ]
  },
  {
   "cell_type": "code",
   "execution_count": 11,
   "metadata": {
    "scrolled": true
   },
   "outputs": [
    {
     "ename": "TypeError",
     "evalue": "ufunc 'add' did not contain a loop with signature matching types dtype('<U65') dtype('<U65') dtype('<U65')",
     "output_type": "error",
     "traceback": [
      "\u001b[1;31m---------------------------------------------------------------------------\u001b[0m",
      "\u001b[1;31mTypeError\u001b[0m                                 Traceback (most recent call last)",
      "\u001b[1;32m<ipython-input-11-f9e21cda7dd2>\u001b[0m in \u001b[0;36m<module>\u001b[1;34m\u001b[0m\n\u001b[0;32m      1\u001b[0m \u001b[0mindex\u001b[0m\u001b[1;33m=\u001b[0m\u001b[1;36m12223\u001b[0m\u001b[1;33m\u001b[0m\u001b[1;33m\u001b[0m\u001b[0m\n\u001b[0;32m      2\u001b[0m \u001b[1;31m# load image as pixel array\u001b[0m\u001b[1;33m\u001b[0m\u001b[1;33m\u001b[0m\u001b[1;33m\u001b[0m\u001b[0m\n\u001b[1;32m----> 3\u001b[1;33m \u001b[0mdata\u001b[0m \u001b[1;33m=\u001b[0m \u001b[0mcv2\u001b[0m\u001b[1;33m.\u001b[0m\u001b[0mimread\u001b[0m\u001b[1;33m(\u001b[0m\u001b[0mtrain_dir\u001b[0m\u001b[1;33m+\u001b[0m\u001b[1;34m'\\\\'\u001b[0m\u001b[1;33m+\u001b[0m\u001b[0mdecode_labels\u001b[0m\u001b[1;33m(\u001b[0m\u001b[0mY_train\u001b[0m\u001b[1;33m[\u001b[0m\u001b[0mindex\u001b[0m\u001b[1;33m]\u001b[0m\u001b[1;33m)\u001b[0m\u001b[1;33m+\u001b[0m\u001b[1;34m'\\\\'\u001b[0m\u001b[1;33m+\u001b[0m\u001b[0mX_train\u001b[0m\u001b[1;33m[\u001b[0m\u001b[0mindex\u001b[0m\u001b[1;33m]\u001b[0m\u001b[1;33m)\u001b[0m\u001b[1;33m\u001b[0m\u001b[1;33m\u001b[0m\u001b[0m\n\u001b[0m\u001b[0;32m      4\u001b[0m \u001b[1;31m# summarize shape of the pixel array\u001b[0m\u001b[1;33m\u001b[0m\u001b[1;33m\u001b[0m\u001b[1;33m\u001b[0m\u001b[0m\n\u001b[0;32m      5\u001b[0m \u001b[0mprint\u001b[0m\u001b[1;33m(\u001b[0m\u001b[0mdata\u001b[0m\u001b[1;33m.\u001b[0m\u001b[0mdtype\u001b[0m\u001b[1;33m)\u001b[0m\u001b[1;33m\u001b[0m\u001b[1;33m\u001b[0m\u001b[0m\n",
      "\u001b[1;31mTypeError\u001b[0m: ufunc 'add' did not contain a loop with signature matching types dtype('<U65') dtype('<U65') dtype('<U65')"
     ]
    }
   ],
   "source": [
    "# index=12223\n",
    "# # load image as pixel array\n",
    "# data = cv2.imread(train_dir+'\\\\'+decode_labels(Y_train[index])+'\\\\'+X_train[index])\n",
    "# # summarize shape of the pixel array\n",
    "# print(data.dtype)\n",
    "# print(data.shape)\n",
    "# # display the array of pixels as an image\n",
    "# pyplot.imshow(data)\n",
    "# pyplot.show()\n",
    "# print(decode_labels(imgLabels[index]))"
   ]
  },
  {
   "cell_type": "code",
   "execution_count": 12,
   "metadata": {},
   "outputs": [
    {
     "data": {
      "text/plain": [
       "'C:\\\\Users\\\\Ishan SS\\\\ML\\\\Intel Img Classification'"
      ]
     },
     "execution_count": 12,
     "metadata": {},
     "output_type": "execute_result"
    }
   ],
   "source": [
    "os.chdir(directory)\n",
    "os.getcwd()"
   ]
  },
  {
   "cell_type": "code",
   "execution_count": 14,
   "metadata": {},
   "outputs": [],
   "source": [
    "import pickle\n",
    "pickle_out=open(\"X_train.pickle\",\"wb\")\n",
    "pickle.dump(X_train,pickle_out)\n",
    "pickle_out.close()\n",
    "\n",
    "pickle_out=open(\"Y_train.pickle\",\"wb\")\n",
    "pickle.dump(Y_train,pickle_out)\n",
    "pickle_out.close()\n",
    "\n",
    "pickle_out=open(\"X_test.pickle\",\"wb\")\n",
    "pickle.dump(X_test,pickle_out)\n",
    "pickle_out.close()\n",
    "\n",
    "pickle_out=open(\"Y_test.pickle\",\"wb\")\n",
    "pickle.dump(Y_test,pickle_out)\n",
    "pickle_out.close()"
   ]
  },
  {
   "cell_type": "code",
   "execution_count": null,
   "metadata": {},
   "outputs": [],
   "source": []
  },
  {
   "cell_type": "code",
   "execution_count": null,
   "metadata": {
    "scrolled": false
   },
   "outputs": [],
   "source": []
  },
  {
   "cell_type": "code",
   "execution_count": null,
   "metadata": {},
   "outputs": [],
   "source": []
  },
  {
   "cell_type": "code",
   "execution_count": null,
   "metadata": {},
   "outputs": [],
   "source": []
  }
 ],
 "metadata": {
  "kernelspec": {
   "display_name": "Python 3",
   "language": "python",
   "name": "python3"
  },
  "language_info": {
   "codemirror_mode": {
    "name": "ipython",
    "version": 3
   },
   "file_extension": ".py",
   "mimetype": "text/x-python",
   "name": "python",
   "nbconvert_exporter": "python",
   "pygments_lexer": "ipython3",
   "version": "3.7.4"
  }
 },
 "nbformat": 4,
 "nbformat_minor": 2
}
